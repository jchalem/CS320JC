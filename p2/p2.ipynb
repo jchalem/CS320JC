{
 "cells": [
  {
   "cell_type": "code",
   "execution_count": 1,
   "metadata": {},
   "outputs": [],
   "source": [
    "# project: p2\n",
    "# submitter: jchalem\n",
    "# partner: none\n",
    "# hours: 20"
   ]
  },
  {
   "cell_type": "code",
   "execution_count": 2,
   "metadata": {},
   "outputs": [],
   "source": [
    "import loans, json, search, pandas as pd, csv, io, time\n",
    "from zipfile import ZipFile, ZIP_DEFLATED\n",
    "from io import TextIOWrapper"
   ]
  },
  {
   "cell_type": "code",
   "execution_count": 3,
   "metadata": {},
   "outputs": [],
   "source": [
    "%load_ext autoreload\n",
    "%autoreload 2"
   ]
  },
  {
   "cell_type": "code",
   "execution_count": 4,
   "metadata": {
    "scrolled": true
   },
   "outputs": [],
   "source": [
    "fhb = loans.Bank(\"First Home Bank\")"
   ]
  },
  {
   "cell_type": "code",
   "execution_count": 5,
   "metadata": {},
   "outputs": [
    {
     "data": {
      "text/plain": [
       "2.962962962962963"
      ]
     },
     "execution_count": 5,
     "metadata": {},
     "output_type": "execute_result"
    }
   ],
   "source": [
    "#q1\n",
    "\n",
    "total_interest_rate = 0\n",
    "total_loans = 0\n",
    "for loan in fhb:\n",
    "    if loan.interest_rate != -1:\n",
    "        total_interest_rate += loan.interest_rate\n",
    "        total_loans += 1\n",
    "total_interest_rate / total_loans"
   ]
  },
  {
   "cell_type": "code",
   "execution_count": 6,
   "metadata": {},
   "outputs": [
    {
     "data": {
      "text/plain": [
       "1.5777777777777777"
      ]
     },
     "execution_count": 6,
     "metadata": {},
     "output_type": "execute_result"
    }
   ],
   "source": [
    "#q2\n",
    "\n",
    "total_applicants = 0\n",
    "total_loans = 0\n",
    "for loan in fhb:\n",
    "    total_applicants += len(loan.applicants)\n",
    "    total_loans += 1\n",
    "total_applicants / total_loans"
   ]
  },
  {
   "cell_type": "code",
   "execution_count": 7,
   "metadata": {},
   "outputs": [
    {
     "data": {
      "text/plain": [
       "{'65-74': 21, '45-54': 21, '>74': 5, '25-34': 4, '35-44': 13, '55-64': 7}"
      ]
     },
     "execution_count": 7,
     "metadata": {},
     "output_type": "execute_result"
    }
   ],
   "source": [
    "#q3\n",
    "\n",
    "ages_dict = {}\n",
    "for loan in fhb:\n",
    "    for i in loan.applicants:\n",
    "        for j in i.age:\n",
    "            if j not in ages_dict:\n",
    "                ages_dict[j] = 0\n",
    "            ages_dict[j] += 1\n",
    "ages_dict\n"
   ]
  },
  {
   "cell_type": "code",
   "execution_count": 8,
   "metadata": {},
   "outputs": [],
   "source": [
    "# Create tree for First Home Bank\n",
    "\n",
    "t1 = search.BST()\n",
    "for loan in fhb.loan:\n",
    "    t1.add(loan.interest_rate, loan)"
   ]
  },
  {
   "cell_type": "code",
   "execution_count": 9,
   "metadata": {},
   "outputs": [
    {
     "data": {
      "text/plain": [
       "18"
      ]
     },
     "execution_count": 9,
     "metadata": {},
     "output_type": "execute_result"
    }
   ],
   "source": [
    "#q4\n",
    "len(t1[-1])"
   ]
  },
  {
   "cell_type": "code",
   "execution_count": 10,
   "metadata": {
    "scrolled": true
   },
   "outputs": [
    {
     "data": {
      "text/plain": [
       "9"
      ]
     },
     "execution_count": 10,
     "metadata": {},
     "output_type": "execute_result"
    }
   ],
   "source": [
    "#q5\n",
    "\n",
    "t1.depth(t1.root)"
   ]
  },
  {
   "cell_type": "code",
   "execution_count": 11,
   "metadata": {},
   "outputs": [
    {
     "name": "stdout",
     "output_type": "stream",
     "text": [
      "<Loan: -1% on $-1 with 2 applicant(s)>\n",
      "<Loan: 2.5% on $235000.0 with 2 applicant(s)>\n",
      "<Loan: 2.25% on $325000.0 with 2 applicant(s)>\n",
      "<Loan: -1% on $-1 with 2 applicant(s)>\n",
      "<Loan: 2.375% on $425000.0 with 2 applicant(s)>\n",
      "<Loan: -1% on $-1 with 2 applicant(s)>\n",
      "<Loan: 2.375% on $295000.0 with 1 applicant(s)>\n",
      "<Loan: -1% on $95000.0 with 1 applicant(s)>\n",
      "<Loan: 2.75% on $215000.0 with 1 applicant(s)>\n",
      "<Loan: -1% on $-1 with 2 applicant(s)>\n",
      "<Loan: 2.75% on $305000.0 with 1 applicant(s)>\n",
      "<Loan: -1% on $-1 with 1 applicant(s)>\n",
      "<Loan: 2.875% on $395000.0 with 2 applicant(s)>\n",
      "<Loan: 3.125% on $205000.0 with 1 applicant(s)>\n",
      "<Loan: 3.375% on $185000.0 with 1 applicant(s)>\n",
      "<Loan: 4.0% on $265000.0 with 1 applicant(s)>\n",
      "<Loan: -1% on $315000.0 with 2 applicant(s)>\n",
      "<Loan: 4.625% on $175000.0 with 1 applicant(s)>\n",
      "<Loan: 3.75% on $285000.0 with 2 applicant(s)>\n",
      "<Loan: 2.875% on $285000.0 with 1 applicant(s)>\n",
      "<Loan: 2.75% on $255000.0 with 2 applicant(s)>\n",
      "<Loan: 3.0% on $265000.0 with 2 applicant(s)>\n",
      "<Loan: 3.625% on $365000.0 with 1 applicant(s)>\n",
      "<Loan: 2.75% on $505000.0 with 2 applicant(s)>\n",
      "<Loan: 2.625% on $155000.0 with 2 applicant(s)>\n",
      "<Loan: 2.75% on $435000.0 with 2 applicant(s)>\n",
      "<Loan: 2.75% on $265000.0 with 1 applicant(s)>\n",
      "<Loan: 2.875% on $275000.0 with 1 applicant(s)>\n",
      "<Loan: 3.25% on $275000.0 with 1 applicant(s)>\n",
      "<Loan: -1% on $-1 with 2 applicant(s)>\n",
      "<Loan: 3.125% on $145000.0 with 1 applicant(s)>\n",
      "<Loan: 3.0% on $315000.0 with 2 applicant(s)>\n",
      "<Loan: 2.375% on $405000.0 with 2 applicant(s)>\n",
      "<Loan: 2.5% on $305000.0 with 2 applicant(s)>\n",
      "<Loan: -1% on $-1 with 1 applicant(s)>\n",
      "<Loan: 3.0% on $255000.0 with 2 applicant(s)>\n",
      "<Loan: -1% on $-1 with 1 applicant(s)>\n",
      "<Loan: -1% on $-1 with 2 applicant(s)>\n",
      "<Loan: -1% on $-1 with 2 applicant(s)>\n",
      "<Loan: -1% on $-1 with 1 applicant(s)>\n",
      "<Loan: -1% on $-1 with 2 applicant(s)>\n",
      "<Loan: -1% on $-1 with 1 applicant(s)>\n",
      "<Loan: -1% on $-1 with 2 applicant(s)>\n",
      "<Loan: -1% on $-1 with 2 applicant(s)>\n",
      "<Loan: -1% on $-1 with 2 applicant(s)>\n"
     ]
    }
   ],
   "source": [
    "for loan in fhb.loan:\n",
    "    print(loan)"
   ]
  },
  {
   "cell_type": "code",
   "execution_count": 12,
   "metadata": {},
   "outputs": [],
   "source": [
    "uwcu = loans.Bank(\"University of Wisconsin Credit Union\")"
   ]
  },
  {
   "cell_type": "code",
   "execution_count": 13,
   "metadata": {},
   "outputs": [
    {
     "data": {
      "image/png": "[encoded data removed]",
      "text/plain": [
       "<Figure size 432x288 with 1 Axes>"
      ]
     },
     "metadata": {
      "needs_background": "light"
     },
     "output_type": "display_data"
    }
   ],
   "source": [
    "#q6\n",
    "\n",
    "df = pd.DataFrame(dtype=float)\n",
    "tree_uwcu = search.BST()\n",
    "bst_adds = 0\n",
    "total_time = 0\n",
    "bst_dict = {}\n",
    "for loan in uwcu.loan:\n",
    "    t0 = time.time()\n",
    "    tree_uwcu.add(loan.interest_rate, loan)\n",
    "    t1 = time.time()\n",
    "    total_time += (t1 - t0) * 1000\n",
    "    bst_adds += 1\n",
    "    bst_dict[bst_adds] = total_time\n",
    "    \n",
    "bst_series = pd.Series(bst_dict)\n",
    "ax = bst_series.plot.line()\n",
    "ax = ax.set(xlabel = \"BST Adds\", ylabel = \"Milliseconds\")"
   ]
  },
  {
   "cell_type": "code",
   "execution_count": 14,
   "metadata": {},
   "outputs": [
    {
     "data": {
      "image/png": "[encoded data removed]",
      "text/plain": [
       "<Figure size 432x288 with 1 Axes>"
      ]
     },
     "metadata": {
      "needs_background": "light"
     },
     "output_type": "display_data"
    }
   ],
   "source": [
    "#q7\n",
    "\n",
    "counter = 0\n",
    "t0 = time.time()\n",
    "for loan in uwcu.loan:\n",
    "    if loan.interest_rate == -1:\n",
    "        counter += 1\n",
    "t1 = time.time()\n",
    "loop_time = (t1 - t0) * 1000\n",
    "\n",
    "t0 = time.time()\n",
    "len(tree_uwcu[-1])\n",
    "t1 = time.time()\n",
    "lookup_time = (t1 - t0) * 1000\n",
    "\n",
    "times = pd.Series({\"Loop\" : loop_time, \"BST\" : lookup_time})\n",
    "\n",
    "ax = times.plot.bar()\n",
    "ax = ax.set_ylabel(\"Milliseconds\")"
   ]
  },
  {
   "cell_type": "code",
   "execution_count": 15,
   "metadata": {},
   "outputs": [],
   "source": [
    "# Create dataframe of property values and loan amounts\n",
    "\n",
    "values = []\n",
    "for loan in uwcu.loan:\n",
    "    if loan.property_value < 1000000:\n",
    "        values.append([loan.property_value, loan.loan_amount])\n",
    "df = pd.DataFrame(values, columns = [\"Value\", \"Amount\"])"
   ]
  },
  {
   "cell_type": "code",
   "execution_count": 16,
   "metadata": {},
   "outputs": [
    {
     "data": {
      "image/png": "[encoded data removed]",
      "text/plain": [
       "<Figure size 432x288 with 1 Axes>"
      ]
     },
     "metadata": {
      "needs_background": "light"
     },
     "output_type": "display_data"
    }
   ],
   "source": [
    "#q8\n",
    "\n",
    "ax1 = df.plot.scatter(x='Value', y='Amount', alpha = 0.01, color = \"black\")"
   ]
  },
  {
   "cell_type": "code",
   "execution_count": 17,
   "metadata": {},
   "outputs": [],
   "source": [
    "# Create dictionary of races and how often they appear\n",
    "\n",
    "race_distribution = {}\n",
    "for loan in uwcu:\n",
    "    for i in loan.applicants:\n",
    "        races_list = list(i.race)\n",
    "        if len(races_list) > 1:\n",
    "            for race in races_list:\n",
    "                if race not in race_distribution:\n",
    "                    race_distribution[race] = 0\n",
    "                race_distribution[race] += 1\n",
    "        elif len(races_list) == 1:\n",
    "            if races_list[0] not in race_distribution:\n",
    "                race_distribution[races_list[0]] = 0\n",
    "            race_distribution[races_list[0]] += 1\n",
    "\n",
    "        elif len(races_list) == 0:\n",
    "            if \"NA\" not in race_distribution:\n",
    "                race_distribution[\"NA\"] = 0\n",
    "            race_distribution[\"NA\"] += 1"
   ]
  },
  {
   "cell_type": "code",
   "execution_count": 18,
   "metadata": {},
   "outputs": [
    {
     "data": {
      "text/plain": [
       "{'White': 28724,\n",
       " 'Asian Indian': 437,\n",
       " 'Asian': 1216,\n",
       " 'NA': 3409,\n",
       " 'Black or African American': 633,\n",
       " 'Korean': 150,\n",
       " 'Other Asian': 349,\n",
       " 'Filipino': 110,\n",
       " 'American Indian or Alaska Native': 204,\n",
       " 'Vietnamese': 55,\n",
       " 'Chinese': 271,\n",
       " 'Japanese': 57,\n",
       " 'Native Hawaiian or Other Pacific Islander': 19,\n",
       " 'Guamanian or Chamorro': 5,\n",
       " 'Other Pacific Islander': 8,\n",
       " 'Native Hawaiian': 13}"
      ]
     },
     "execution_count": 18,
     "metadata": {},
     "output_type": "execute_result"
    }
   ],
   "source": [
    "race_distribution"
   ]
  },
  {
   "cell_type": "code",
   "execution_count": 19,
   "metadata": {},
   "outputs": [
    {
     "data": {
      "image/png": "[encoded data removed]",
      "text/plain": [
       "<Figure size 432x288 with 1 Axes>"
      ]
     },
     "metadata": {
      "needs_background": "light"
     },
     "output_type": "display_data"
    }
   ],
   "source": [
    "#q9\n",
    "\n",
    "df = pd.Series(race_distribution)\n",
    "ax = df.plot.bar()\n",
    "ax = ax.set_ylabel(\"Count\")"
   ]
  },
  {
   "cell_type": "code",
   "execution_count": 20,
   "metadata": {},
   "outputs": [],
   "source": [
    "# Create tree for University of Wisconsin Credit Union\n",
    "\n",
    "t2 = search.BST()\n",
    "for loan in uwcu.loan:\n",
    "    t2.add(loan.interest_rate, loan)"
   ]
  },
  {
   "cell_type": "code",
   "execution_count": 21,
   "metadata": {
    "scrolled": true
   },
   "outputs": [
    {
     "data": {
      "text/plain": [
       "32"
      ]
     },
     "execution_count": 21,
     "metadata": {},
     "output_type": "execute_result"
    }
   ],
   "source": [
    "#q10\n",
    "\n",
    "t2.number_nodes(t2.root)"
   ]
  }
 ],
 "metadata": {
  "kernelspec": {
   "display_name": "Python 3",
   "language": "python",
   "name": "python3"
  },
  "language_info": {
   "codemirror_mode": {
    "name": "ipython",
    "version": 3
   },
   "file_extension": ".py",
   "mimetype": "text/x-python",
   "name": "python",
   "nbconvert_exporter": "python",
   "pygments_lexer": "ipython3",
   "version": "3.7.6"
  }
 },
 "nbformat": 4,
 "nbformat_minor": 5
}
